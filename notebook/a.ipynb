{
 "cells": [
  {
   "cell_type": "code",
   "execution_count": 1,
   "metadata": {},
   "outputs": [],
   "source": [
    "from ExampleAnalyzer.main import ExampleAnalyzer\n",
    "from framework.AnalyzerUtilities import *"
   ]
  },
  {
   "cell_type": "code",
   "execution_count": 2,
   "metadata": {},
   "outputs": [
    {
     "name": "stdout",
     "output_type": "stream",
     "text": [
      "--- load_feature_config from .csv files ---\n",
      "load inFeatures csv:  /home/zchen/Documents/Analysis/nanoblt/ExampleAnalyzer/featureConfig/inFeature.csv\n",
      "load internalFeatures csv:  /home/zchen/Documents/Analysis/nanoblt/ExampleAnalyzer/featureConfig/internalFeature.csv\n",
      "load outFeatures csv:  /home/zchen/Documents/Analysis/nanoblt/ExampleAnalyzer/featureConfig/outFeature.csv\n",
      "Successfully load all .csv files\n",
      "--- lgenerate_cuda_struct_declaration ---\n",
      "generate cuda struct 'MaskEvents' \n",
      "generate cuda struct 'Events' \n",
      "generate cuda struct 'EventsInternal' \n",
      "generate cuda struct 'EventsOut' \n",
      "Successfully generate all cuda struct \n",
      "--- compile_cuda_kernels in .cu files ---\n",
      "Successfully complie cuda kernels\n"
     ]
    }
   ],
   "source": [
    "ana = ExampleAnalyzer()"
   ]
  },
  {
   "cell_type": "code",
   "execution_count": 3,
   "metadata": {},
   "outputs": [
    {
     "name": "stdout",
     "output_type": "stream",
     "text": [
      "time mask 0.1738569736480713\n",
      "pass mask 364876/855000, eff=0.427\n",
      "time init_events read tree 2.8513753414154053\n",
      "time init_events apply mask 0.19232559204101562\n",
      "time init_events flat jaggedArray 0.1749858856201172\n",
      "time init_events bool2int 0.0008294582366943359\n",
      "time init_events cumsum 0.0016088485717773438\n",
      "time init_events device soa 8.034706115722656e-05\n",
      "time init_events internal-out 0.002501249313354492\n",
      "this is event selection\n",
      "time totalGPU 0.014807701110839844\n",
      "this is post process\n",
      "eventsOut is  {'nPassElectron': array([2, 1, 1, ..., 1, 1, 0], dtype=int32), 'nPassMuon': array([0, 2, 1, ..., 1, 0, 0], dtype=int32)}\n",
      "this is store data example.h5\n"
     ]
    }
   ],
   "source": [
    "#infile = '/home/zchen/cms/data/EGamma_Run2018B/E4BC7705-C2F2-1D4D-BBD5-3E375685BA51.root'\n",
    "infile = '../data/tt.root'\n",
    "ana.process_infile(infile,'example.h5')"
   ]
  }
 ],
 "metadata": {
  "kernelspec": {
   "display_name": "Python 3",
   "language": "python",
   "name": "python3"
  },
  "language_info": {
   "codemirror_mode": {
    "name": "ipython",
    "version": 3
   },
   "file_extension": ".py",
   "mimetype": "text/x-python",
   "name": "python",
   "nbconvert_exporter": "python",
   "pygments_lexer": "ipython3",
   "version": "3.7.6"
  }
 },
 "nbformat": 4,
 "nbformat_minor": 4
}
