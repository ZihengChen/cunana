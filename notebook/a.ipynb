{
 "cells": [
  {
   "cell_type": "code",
   "execution_count": 1,
   "metadata": {},
   "outputs": [],
   "source": [
    "from ExampleAnalyzer.main import ExampleAnalyzer\n",
    "from framework.AnalyzerUtilities import *"
   ]
  },
  {
   "cell_type": "code",
   "execution_count": 2,
   "metadata": {},
   "outputs": [
    {
     "name": "stdout",
     "output_type": "stream",
     "text": [
      "--- load_feature_config from .csv files ---\n",
      "load inFeatures csv:  /home/zchen/Documents/Analysis/nanoblt/ExampleAnalyzer/featureConfig/inFeature.csv\n",
      "load internalFeatures csv:  /home/zchen/Documents/Analysis/nanoblt/ExampleAnalyzer/featureConfig/internalFeature.csv\n",
      "load outFeatures csv:  /home/zchen/Documents/Analysis/nanoblt/ExampleAnalyzer/featureConfig/outFeature.csv\n",
      "Successfully load all .csv files\n",
      "--- lgenerate_cuda_struct_declaration ---\n",
      "generate cuda struct 'MaskEvents' \n",
      "generate cuda struct 'Events' \n",
      "generate cuda struct 'EventsInternal' \n",
      "generate cuda struct 'EventsOut' \n",
      "Successfully generate all cuda struct \n",
      "--- compile_cuda_kernels in .cu files ---\n",
      "Successfully complie cuda kernels\n"
     ]
    }
   ],
   "source": [
    "ana = ExampleAnalyzer()"
   ]
  },
  {
   "cell_type": "code",
   "execution_count": 3,
   "metadata": {},
   "outputs": [
    {
     "name": "stdout",
     "output_type": "stream",
     "text": [
      "time mask 0.17443084716796875\n",
      "pass mask 364876/855000, eff=0.427\n",
      "time init_events read tree 2.8450074195861816\n",
      "time init_events apply mask 0.19158673286437988\n",
      "time init_events flat jaggedArray 0.17490720748901367\n",
      "time init_events bool2int 0.0008370876312255859\n",
      "time init_events cumsum 0.0016031265258789062\n",
      "time init_events device soa 8.106231689453125e-05\n",
      "time init_events internal-out 0.0024971961975097656\n",
      "this is event selection\n",
      "time totalGPU 0.014783382415771484\n",
      "this is post process\n",
      "eventsOut is  {'nPassElectron': array([2, 1, 1, ..., 1, 1, 0], dtype=int32), 'nPassMuon': array([0, 2, 1, ..., 1, 0, 0], dtype=int32)}\n",
      "this is store data example.h5\n"
     ]
    }
   ],
   "source": [
    "#infile = '/home/zchen/cms/data/EGamma_Run2018B/E4BC7705-C2F2-1D4D-BBD5-3E375685BA51.root'\n",
    "infile = '../data/tt.root'\n",
    "ana.process_infile(infile,'example.h5')"
   ]
  },
  {
   "cell_type": "code",
   "execution_count": 4,
   "metadata": {},
   "outputs": [
    {
     "name": "stdout",
     "output_type": "stream",
     "text": [
      "pass mask 364876/855000, eff=0.427\n"
     ]
    }
   ],
   "source": [
    "ana.tree = uproot.open('../data/tt.root')[\"Events\"]   \n",
    "ana.get_mask()\n",
    "ana.init_events()"
   ]
  },
  {
   "cell_type": "code",
   "execution_count": 5,
   "metadata": {},
   "outputs": [
    {
     "name": "stdout",
     "output_type": "stream",
     "text": [
      "this is event selection\n",
      "this is post process\n"
     ]
    },
    {
     "data": {
      "text/plain": [
       "{'nPassElectron': array([2, 1, 1, ..., 1, 1, 0], dtype=int32),\n",
       " 'nPassMuon': array([0, 2, 1, ..., 1, 0, 0], dtype=int32)}"
      ]
     },
     "execution_count": 5,
     "metadata": {},
     "output_type": "execute_result"
    }
   ],
   "source": [
    "ana.copy_events_to_gpu()\n",
    "ana.object_selection()\n",
    "ana.event_selection()\n",
    "ana.copy_events_from_gpu()\n",
    "#ana.clear_devents()\n",
    "ana.postprocess()\n",
    "ana.eventsOut"
   ]
  },
  {
   "cell_type": "code",
   "execution_count": 8,
   "metadata": {},
   "outputs": [],
   "source": [
    "ana.deventsInternal.copy_from_gpu()"
   ]
  },
  {
   "cell_type": "code",
   "execution_count": 11,
   "metadata": {},
   "outputs": [
    {
     "data": {
      "text/plain": [
       "array([[0, 1, 0, 0],\n",
       "       [0, 0, 0, 0],\n",
       "       [1, 0, 0, 0],\n",
       "       ...,\n",
       "       [1, 0, 0, 0],\n",
       "       [0, 0, 0, 0],\n",
       "       [0, 0, 0, 0]], dtype=int32)"
      ]
     },
     "execution_count": 11,
     "metadata": {},
     "output_type": "execute_result"
    }
   ],
   "source": [
    "ana.eventsInternal.iPassElectron.reshape(-1,4)"
   ]
  },
  {
   "cell_type": "code",
   "execution_count": 8,
   "metadata": {},
   "outputs": [
    {
     "ename": "NameError",
     "evalue": "name 'np' is not defined",
     "output_type": "error",
     "traceback": [
      "\u001b[0;31m---------------------------------------------------------------------------\u001b[0m",
      "\u001b[0;31mNameError\u001b[0m                                 Traceback (most recent call last)",
      "\u001b[0;32m<ipython-input-8-e4f3b47dc252>\u001b[0m in \u001b[0;36m<module>\u001b[0;34m\u001b[0m\n\u001b[0;32m----> 1\u001b[0;31m \u001b[0mnp\u001b[0m\u001b[0;34m.\u001b[0m\u001b[0marray\u001b[0m\u001b[0;34m(\u001b[0m\u001b[0;34m)\u001b[0m\u001b[0;34m\u001b[0m\u001b[0;34m\u001b[0m\u001b[0m\n\u001b[0m",
      "\u001b[0;31mNameError\u001b[0m: name 'np' is not defined"
     ]
    }
   ],
   "source": [
    "np.array()"
   ]
  },
  {
   "cell_type": "code",
   "execution_count": 5,
   "metadata": {},
   "outputs": [],
   "source": [
    "ana.store(\"s\")\n",
    "ana.clear_events()"
   ]
  },
  {
   "cell_type": "code",
   "execution_count": 3,
   "metadata": {},
   "outputs": [
    {
     "name": "stdout",
     "output_type": "stream",
     "text": [
      "pass mask 364876/855000, eff=0.427\n",
      "this is event selection\n",
      "this is post process\n",
      "eventsOut is  {'nPassElectron': array([2, 1, 1, ..., 1, 1, 0], dtype=int32), 'nPassMuon': array([0, 2, 1, ..., 1, 0, 0], dtype=int32)}\n",
      "this is store data s\n"
     ]
    }
   ],
   "source": [
    "ana.process_infile('data/tt.root','s')\n",
    "'/home/zchen/cms/data/EGamma_Run2018B/E4BC7705-C2F2-1D4D-BBD5-3E375685BA51.root'"
   ]
  },
  {
   "cell_type": "code",
   "execution_count": 6,
   "metadata": {},
   "outputs": [
    {
     "data": {
      "text/plain": [
       "364876"
      ]
     },
     "execution_count": 6,
     "metadata": {},
     "output_type": "execute_result"
    }
   ],
   "source": [
    "ana.events.nev"
   ]
  },
  {
   "cell_type": "code",
   "execution_count": 4,
   "metadata": {},
   "outputs": [],
   "source": [
    "inputDir  = \"/home/zchen/cms/data/EGamma_Run2018B/\"\n",
    "fileNames = glob.glob(inputDir+\"*.root\")\n",
    "fileName = fileNames[1]"
   ]
  },
  {
   "cell_type": "code",
   "execution_count": 5,
   "metadata": {},
   "outputs": [
    {
     "data": {
      "text/plain": [
       "'/home/zchen/cms/data/EGamma_Run2018B/E4BC7705-C2F2-1D4D-BBD5-3E375685BA51.root'"
      ]
     },
     "execution_count": 5,
     "metadata": {},
     "output_type": "execute_result"
    }
   ],
   "source": [
    "fileName"
   ]
  },
  {
   "cell_type": "code",
   "execution_count": null,
   "metadata": {},
   "outputs": [],
   "source": [
    "def compile_cuda_kernels(self):\n",
    "    cufiles = ['./ExampleAnalyzer.cu']\n",
    "    self.knl_mask = cu.elementwise.ElementwiseKernel(\n",
    "        arguments=\"bool *mask, bool *HLT_Ele32_WPTight_Gsf, bool *HLT_IsoMu24, int *nElectron, int *nMuon\",\n",
    "        operation=\"mask[i] = (HLT_Ele32_WPTight_Gsf[i] || HLT_IsoMu24[i]) && (nElectron[i]>=2 || nMuon[i]>=2)\" )\n",
    "\n",
    "    # read code from src files\n",
    "    code = self.codeMaskEventsStruct + self.codeEventsStruct\n",
    "    for cufile in cufiles:\n",
    "        f = open(cufile,\"r\") \n",
    "        code += f.read()\n",
    "        f.close()\n",
    "\n",
    "    # complie cuda code\n",
    "    module = cu.compiler.SourceModule(  code )\n",
    "    self.knl_objectSelection_electron = module.get_function('knl_objectSelection_electron')\n",
    "    self.knl_objectSelection_muon     = module.get_function('knl_objectSelection_muon')"
   ]
  }
 ],
 "metadata": {
  "kernelspec": {
   "display_name": "Python 3",
   "language": "python",
   "name": "python3"
  },
  "language_info": {
   "codemirror_mode": {
    "name": "ipython",
    "version": 3
   },
   "file_extension": ".py",
   "mimetype": "text/x-python",
   "name": "python",
   "nbconvert_exporter": "python",
   "pygments_lexer": "ipython3",
   "version": "3.7.6"
  }
 },
 "nbformat": 4,
 "nbformat_minor": 4
}
