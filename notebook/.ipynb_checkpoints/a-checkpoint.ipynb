{
 "cells": [
  {
   "cell_type": "code",
   "execution_count": 1,
   "metadata": {},
   "outputs": [],
   "source": [
    "from ExampleAnalyzer.main import ExampleAnalyzer"
   ]
  },
  {
   "cell_type": "code",
   "execution_count": 2,
   "metadata": {},
   "outputs": [
    {
     "name": "stdout",
     "output_type": "stream",
     "text": [
      "--- load_feature_config from .csv files ---\n",
      "load inFeatures csv:  /home/zchen/Documents/Analysis/nanoblt/ExampleAnalyzer/featureConfig/inFeature.csv\n",
      "load internalFeatures csv:  /home/zchen/Documents/Analysis/nanoblt/ExampleAnalyzer/featureConfig/internalFeature.csv\n",
      "load outFeatures csv:  /home/zchen/Documents/Analysis/nanoblt/ExampleAnalyzer/featureConfig/outFeature.csv\n",
      "Successfully load all .csv files\n",
      "--- lgenerate_cuda_struct_declaration ---\n",
      "generate cuda struct 'MaskEvents' \n",
      "generate cuda struct 'Events' \n",
      "generate cuda struct 'EventsInternal' \n",
      "generate cuda struct 'EventsOut' \n",
      "Successfully generate all cuda struct \n",
      "--- compile_cuda_kernels in .cu files ---\n",
      "Successfully complie cuda kernels\n"
     ]
    }
   ],
   "source": [
    "ana = ExampleAnalyzer()"
   ]
  },
  {
   "cell_type": "code",
   "execution_count": 3,
   "metadata": {},
   "outputs": [
    {
     "name": "stdout",
     "output_type": "stream",
     "text": [
      "pass mask 364876/855000, eff=0.427\n",
      "this is event selection\n",
      "this is post process\n",
      "eventsOut is  {'nPassElectron': array([2, 1, 1, ..., 1, 1, 0], dtype=int32), 'nPassMuon': array([0, 2, 1, ..., 1, 0, 0], dtype=int32)}\n",
      "this is store data example.h5\n"
     ]
    }
   ],
   "source": [
    "#infile = '/home/zchen/cms/data/EGamma_Run2018B/E4BC7705-C2F2-1D4D-BBD5-3E375685BA51.root'\n",
    "infile = '../data/tt.root'\n",
    "ana.process_infile(infile,'example.h5')"
   ]
  },
  {
   "cell_type": "code",
   "execution_count": 1,
   "metadata": {},
   "outputs": [],
   "source": [
    "import test as t"
   ]
  },
  {
   "cell_type": "code",
   "execution_count": 2,
   "metadata": {},
   "outputs": [
    {
     "name": "stdout",
     "output_type": "stream",
     "text": [
      "hello world\n"
     ]
    }
   ],
   "source": [
    "t.printhello(\"world\")"
   ]
  },
  {
   "cell_type": "code",
   "execution_count": 4,
   "metadata": {},
   "outputs": [
    {
     "data": {
      "text/plain": [
       "{'baseDir': '/home/zchen/Documents/Analysis/nanoblt',\n",
       " 'featureConfigCSVFiles': ['/home/zchen/Documents/Analysis/nanoblt/ExampleAnalyzer/featureConfig/inFeature.csv',\n",
       "  '/home/zchen/Documents/Analysis/nanoblt/ExampleAnalyzer/featureConfig/internalFeature.csv',\n",
       "  '/home/zchen/Documents/Analysis/nanoblt/ExampleAnalyzer/featureConfig/outFeature.csv'],\n",
       " 'cuFiles': ['/home/zchen/Documents/Analysis/nanoblt/ExampleAnalyzer/cuda/mask.cu',\n",
       "  '/home/zchen/Documents/Analysis/nanoblt/ExampleAnalyzer/cuda/objectSelection.cu'],\n",
       " 'cuKernelsNames': ['knl_mask',\n",
       "  'knl_objectSelection_electron',\n",
       "  'knl_objectSelection_muon'],\n",
       " 'fConf':                           type  inMask  inSelection  needCumsum  isArray\n",
       " featureName                                                             \n",
       " luminosityBlock           uint       1            0           0        1\n",
       " run                       uint       0            0           0        1\n",
       " HLT_Ele32_WPTight_Gsf     bool       1            1           0        1\n",
       " HLT_IsoMu24               bool       1            1           0        1\n",
       " nElectron                 uint       1            1           1        1\n",
       " nMuon                     uint       1            1           1        1\n",
       " Electron_pt              float       0            1           0        1\n",
       " Electron_eta             float       0            1           0        1\n",
       " Electron_cutBased          int       0            1           0        1\n",
       " Electron_pfRelIso03_all  float       0            1           0        1\n",
       " Electron_pdgId             int       0            1           0        1\n",
       " Muon_pt                  float       0            1           0        1\n",
       " Muon_eta                 float       0            1           0        1\n",
       " Muon_isGlobal             bool       0            1           0        1\n",
       " Muon_isPFcand             bool       0            1           0        1\n",
       " Muon_tightId              bool       0            1           0        1\n",
       " Muon_pfRelIso03_all      float       0            1           0        1\n",
       " Muon_pdgId                 int       0            1           0        1,\n",
       " 'needCumsumFeatures': ['nElectron', 'nMuon'],\n",
       " 'cumsumedFeatures': ['cumsum_nElectron', 'cumsum_nMuon'],\n",
       " 'inMaskFeatures': ['luminosityBlock',\n",
       "  'HLT_Ele32_WPTight_Gsf',\n",
       "  'HLT_IsoMu24',\n",
       "  'nElectron',\n",
       "  'nMuon'],\n",
       " 'inSelectionFeatures': ['HLT_Ele32_WPTight_Gsf',\n",
       "  'HLT_IsoMu24',\n",
       "  'nElectron',\n",
       "  'nMuon',\n",
       "  'Electron_pt',\n",
       "  'Electron_eta',\n",
       "  'Electron_cutBased',\n",
       "  'Electron_pfRelIso03_all',\n",
       "  'Electron_pdgId',\n",
       "  'Muon_pt',\n",
       "  'Muon_eta',\n",
       "  'Muon_isGlobal',\n",
       "  'Muon_isPFcand',\n",
       "  'Muon_tightId',\n",
       "  'Muon_pfRelIso03_all',\n",
       "  'Muon_pdgId'],\n",
       " 'eventsInternal': {},\n",
       " 'eventsInternalFConfig':                type rule         num  isArray\n",
       " featureName                                  \n",
       " MAXNLEPTON      int    v  MAXNLEPTON        0\n",
       " iPassElectron   int    l  MAXNLEPTON        1\n",
       " iPassMuon      uint    l  MAXNLEPTON        1,\n",
       " 'internalFeatures': ['MAXNLEPTON', 'iPassElectron', 'iPassMuon'],\n",
       " 'eventsOut': {},\n",
       " 'eventsOutFConf':               type rule  num  isArray\n",
       " featureName                          \n",
       " nPassElectron  int    l    1        1\n",
       " nPassMuon      int    l    1        1,\n",
       " 'outFeatures': ['nPassElectron', 'nPassMuon'],\n",
       " 'kernels': {'knl_mask': <pycuda._driver.Function at 0x7fe39a17de30>,\n",
       "  'knl_objectSelection_electron': <pycuda._driver.Function at 0x7fe39a17dce0>,\n",
       "  'knl_objectSelection_muon': <pycuda._driver.Function at 0x7fe39a17dd50>},\n",
       " 'tree': None,\n",
       " 'events': None}"
      ]
     },
     "execution_count": 4,
     "metadata": {},
     "output_type": "execute_result"
    }
   ],
   "source": [
    "ana.__dict__"
   ]
  },
  {
   "cell_type": "code",
   "execution_count": 5,
   "metadata": {},
   "outputs": [
    {
     "data": {
      "text/plain": [
       "4"
      ]
     },
     "execution_count": 5,
     "metadata": {},
     "output_type": "execute_result"
    }
   ],
   "source": [
    "t.MAXNLEPTON"
   ]
  },
  {
   "cell_type": "code",
   "execution_count": 4,
   "metadata": {},
   "outputs": [
    {
     "name": "stdout",
     "output_type": "stream",
     "text": [
      "pass mask 364876/855000, eff=0.427\n"
     ]
    }
   ],
   "source": [
    "ana.tree = uproot.open('../data/tt.root')[\"Events\"]   \n",
    "ana.get_mask()\n",
    "ana.init_events()"
   ]
  },
  {
   "cell_type": "code",
   "execution_count": 5,
   "metadata": {},
   "outputs": [
    {
     "name": "stdout",
     "output_type": "stream",
     "text": [
      "this is event selection\n",
      "this is post process\n"
     ]
    },
    {
     "data": {
      "text/plain": [
       "{'nPassElectron': array([2, 1, 1, ..., 1, 1, 0], dtype=int32),\n",
       " 'nPassMuon': array([0, 2, 1, ..., 1, 0, 0], dtype=int32)}"
      ]
     },
     "execution_count": 5,
     "metadata": {},
     "output_type": "execute_result"
    }
   ],
   "source": [
    "ana.copy_events_to_gpu()\n",
    "ana.object_selection()\n",
    "ana.event_selection()\n",
    "ana.copy_events_from_gpu()\n",
    "#ana.clear_devents()\n",
    "ana.postprocess()\n",
    "ana.eventsOut"
   ]
  },
  {
   "cell_type": "code",
   "execution_count": 8,
   "metadata": {},
   "outputs": [],
   "source": [
    "ana.deventsInternal.copy_from_gpu()"
   ]
  },
  {
   "cell_type": "code",
   "execution_count": 11,
   "metadata": {},
   "outputs": [
    {
     "data": {
      "text/plain": [
       "array([[0, 1, 0, 0],\n",
       "       [0, 0, 0, 0],\n",
       "       [1, 0, 0, 0],\n",
       "       ...,\n",
       "       [1, 0, 0, 0],\n",
       "       [0, 0, 0, 0],\n",
       "       [0, 0, 0, 0]], dtype=int32)"
      ]
     },
     "execution_count": 11,
     "metadata": {},
     "output_type": "execute_result"
    }
   ],
   "source": [
    "ana.eventsInternal.iPassElectron.reshape(-1,4)"
   ]
  },
  {
   "cell_type": "code",
   "execution_count": null,
   "metadata": {},
   "outputs": [],
   "source": []
  },
  {
   "cell_type": "code",
   "execution_count": 5,
   "metadata": {},
   "outputs": [],
   "source": [
    "ana.store(\"s\")\n",
    "ana.clear_events()"
   ]
  },
  {
   "cell_type": "code",
   "execution_count": 3,
   "metadata": {},
   "outputs": [
    {
     "name": "stdout",
     "output_type": "stream",
     "text": [
      "pass mask 364876/855000, eff=0.427\n",
      "this is event selection\n",
      "this is post process\n",
      "eventsOut is  {'nPassElectron': array([2, 1, 1, ..., 1, 1, 0], dtype=int32), 'nPassMuon': array([0, 2, 1, ..., 1, 0, 0], dtype=int32)}\n",
      "this is store data s\n"
     ]
    }
   ],
   "source": [
    "ana.process_infile('data/tt.root','s')\n",
    "'/home/zchen/cms/data/EGamma_Run2018B/E4BC7705-C2F2-1D4D-BBD5-3E375685BA51.root'"
   ]
  },
  {
   "cell_type": "code",
   "execution_count": 6,
   "metadata": {},
   "outputs": [
    {
     "data": {
      "text/plain": [
       "364876"
      ]
     },
     "execution_count": 6,
     "metadata": {},
     "output_type": "execute_result"
    }
   ],
   "source": [
    "ana.events.nev"
   ]
  },
  {
   "cell_type": "code",
   "execution_count": 4,
   "metadata": {},
   "outputs": [],
   "source": [
    "inputDir  = \"/home/zchen/cms/data/EGamma_Run2018B/\"\n",
    "fileNames = glob.glob(inputDir+\"*.root\")\n",
    "fileName = fileNames[1]"
   ]
  },
  {
   "cell_type": "code",
   "execution_count": 5,
   "metadata": {},
   "outputs": [
    {
     "data": {
      "text/plain": [
       "'/home/zchen/cms/data/EGamma_Run2018B/E4BC7705-C2F2-1D4D-BBD5-3E375685BA51.root'"
      ]
     },
     "execution_count": 5,
     "metadata": {},
     "output_type": "execute_result"
    }
   ],
   "source": [
    "fileName"
   ]
  },
  {
   "cell_type": "code",
   "execution_count": null,
   "metadata": {},
   "outputs": [],
   "source": [
    "def compile_cuda_kernels(self):\n",
    "    cufiles = ['./ExampleAnalyzer.cu']\n",
    "    self.knl_mask = cu.elementwise.ElementwiseKernel(\n",
    "        arguments=\"bool *mask, bool *HLT_Ele32_WPTight_Gsf, bool *HLT_IsoMu24, int *nElectron, int *nMuon\",\n",
    "        operation=\"mask[i] = (HLT_Ele32_WPTight_Gsf[i] || HLT_IsoMu24[i]) && (nElectron[i]>=2 || nMuon[i]>=2)\" )\n",
    "\n",
    "    # read code from src files\n",
    "    code = self.codeMaskEventsStruct + self.codeEventsStruct\n",
    "    for cufile in cufiles:\n",
    "        f = open(cufile,\"r\") \n",
    "        code += f.read()\n",
    "        f.close()\n",
    "\n",
    "    # complie cuda code\n",
    "    module = cu.compiler.SourceModule(  code )\n",
    "    self.knl_objectSelection_electron = module.get_function('knl_objectSelection_electron')\n",
    "    self.knl_objectSelection_muon     = module.get_function('knl_objectSelection_muon')"
   ]
  }
 ],
 "metadata": {
  "kernelspec": {
   "display_name": "Python 3",
   "language": "python",
   "name": "python3"
  },
  "language_info": {
   "codemirror_mode": {
    "name": "ipython",
    "version": 3
   },
   "file_extension": ".py",
   "mimetype": "text/x-python",
   "name": "python",
   "nbconvert_exporter": "python",
   "pygments_lexer": "ipython3",
   "version": "3.7.6"
  }
 },
 "nbformat": 4,
 "nbformat_minor": 4
}
