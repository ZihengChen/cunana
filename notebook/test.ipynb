{
 "cells": [
  {
   "cell_type": "code",
   "execution_count": 1,
   "metadata": {},
   "outputs": [],
   "source": [
    "from ExampleAnalyzer.main import ExampleAnalyzer\n",
    "from framework.AnalyzerUtilities import *"
   ]
  },
  {
   "cell_type": "code",
   "execution_count": 2,
   "metadata": {},
   "outputs": [
    {
     "name": "stdout",
     "output_type": "stream",
     "text": [
      "--- load_feature_config from .csv files ---\n",
      "load inFeatures csv:  /home/zchen/Documents/Analysis/cunana/ExampleAnalyzer/featureConfig/inFeature.csv\n",
      "load internalFeatures csv:  /home/zchen/Documents/Analysis/cunana/ExampleAnalyzer/featureConfig/internalFeature.csv\n",
      "load outFeatures csv:  /home/zchen/Documents/Analysis/cunana/ExampleAnalyzer/featureConfig/outFeature.csv\n",
      "Successfully load all .csv files\n",
      "--- lgenerate_cuda_struct_declaration ---\n",
      "generate cuda struct 'MaskEvents' \n",
      "generate cuda struct 'Events' \n",
      "generate cuda struct 'EventsInternal' \n",
      "generate cuda struct 'EventsOut' \n",
      "Successfully generate all cuda struct \n",
      "--- compile_cuda_kernels in .cu files ---\n",
      "Successfully complie cuda kernels\n"
     ]
    }
   ],
   "source": [
    "ana = ExampleAnalyzer()"
   ]
  },
  {
   "cell_type": "code",
   "execution_count": 3,
   "metadata": {
    "scrolled": true
   },
   "outputs": [
    {
     "name": "stdout",
     "output_type": "stream",
     "text": [
      "time init_events read_tree         :  3.841304s\n",
      "time init_events get_mask          :  0.006543s\n",
      "time init_events apply_mask        :  0.246415s\n",
      "time init_events flat_JaggedArray  :  0.234140s\n",
      "time init_events cumsum            :  0.001869s\n",
      "time init_events bool2int          :  0.000565s\n",
      "time init_events get_device_soa    :  0.000100s\n",
      "time init_events internal_out      :  0.006783s\n",
      "time total gpu                     :  0.031751s\n",
      "time postprocess                   :  0.008863s\n",
      "time store to hdf                  :  0.453169s\n",
      "--- nRaw =  855.0k, n =  364.9k, totalTime =  5.496685s --- \n",
      "\n"
     ]
    }
   ],
   "source": [
    "# infiles = glob.glob('/home/zchen/cms/data/EGamma_Run2018B/*root')\n",
    "# outfile = ana.baseDir + '/data/hdf/cuTest.h5'\n",
    "# infile = '/home/zchen/cms/data/EGamma_Run2018B/E4BC7705-C2F2-1D4D-BBD5-3E375685BA51.root'\n",
    "infiles = [ ana.baseDir+'/data/root/tt.root' ]\n",
    "outfile =  ana.baseDir+'/data/hdf/tt.h5'\n",
    "ana.verb = True\n",
    "ana.process_infiles(infiles[:],outfile)"
   ]
  },
  {
   "cell_type": "code",
   "execution_count": 4,
   "metadata": {},
   "outputs": [
    {
     "data": {
      "text/plain": [
       "Text(0.5, 0, 'dileptonM')"
      ]
     },
     "execution_count": 4,
     "metadata": {},
     "output_type": "execute_result"
    },
    {
     "data": {
      "image/png": "[encoded data removed]",
      "text/plain": [
       "<Figure size 432x288 with 1 Axes>"
      ]
     },
     "metadata": {},
     "output_type": "display_data"
    }
   ],
   "source": [
    "df = pd.read_hdf(outfile, key=\"ch0\")\n",
    "%matplotlib inline\n",
    "from pylab import *\n",
    "plt.figure(facecolor='w')\n",
    "plt.hist(df.dileptonM)\n",
    "plt.xlabel('dileptonM')"
   ]
  },
  {
   "cell_type": "code",
   "execution_count": null,
   "metadata": {},
   "outputs": [],
   "source": []
  }
 ],
 "metadata": {
  "kernelspec": {
   "display_name": "Python 3",
   "language": "python",
   "name": "python3"
  },
  "language_info": {
   "codemirror_mode": {
    "name": "ipython",
    "version": 3
   },
   "file_extension": ".py",
   "mimetype": "text/x-python",
   "name": "python",
   "nbconvert_exporter": "python",
   "pygments_lexer": "ipython3",
   "version": "3.7.6"
  }
 },
 "nbformat": 4,
 "nbformat_minor": 4
}
