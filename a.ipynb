{
 "cells": [
  {
   "cell_type": "code",
   "execution_count": 1,
   "metadata": {},
   "outputs": [],
   "source": [
    "from Analyzer import *"
   ]
  },
  {
   "cell_type": "code",
   "execution_count": 2,
   "metadata": {},
   "outputs": [],
   "source": [
    "ana = Analyzer()"
   ]
  },
  {
   "cell_type": "code",
   "execution_count": 3,
   "metadata": {},
   "outputs": [],
   "source": [
    "ana.tree = uproot.open('data/tt.root')[\"Events\"]   \n",
    "ana.get_mask()\n",
    "ana.init_events()"
   ]
  },
  {
   "cell_type": "code",
   "execution_count": 4,
   "metadata": {},
   "outputs": [
    {
     "data": {
      "text/plain": [
       "{'nPassElectron': array([2, 1, 1, ..., 1, 1, 0], dtype=int32),\n",
       " 'nPassMuon': array([0, 2, 1, ..., 1, 0, 0], dtype=int32)}"
      ]
     },
     "execution_count": 4,
     "metadata": {},
     "output_type": "execute_result"
    }
   ],
   "source": [
    "ana.copy_events_to_gpu()\n",
    "ana.object_selection()\n",
    "ana.event_selection()\n",
    "ana.copy_events_from_gpu()\n",
    "#ana.clear_devents()\n",
    "ana.postprocess()\n",
    "ana.eventsOut"
   ]
  },
  {
   "cell_type": "code",
   "execution_count": 5,
   "metadata": {},
   "outputs": [],
   "source": [
    "ana.store(\"s\")\n",
    "ana.clear_events()"
   ]
  },
  {
   "cell_type": "code",
   "execution_count": null,
   "metadata": {},
   "outputs": [],
   "source": []
  },
  {
   "cell_type": "code",
   "execution_count": null,
   "metadata": {},
   "outputs": [],
   "source": []
  },
  {
   "cell_type": "code",
   "execution_count": null,
   "metadata": {},
   "outputs": [],
   "source": []
  },
  {
   "cell_type": "code",
   "execution_count": null,
   "metadata": {},
   "outputs": [],
   "source": []
  },
  {
   "cell_type": "code",
   "execution_count": null,
   "metadata": {},
   "outputs": [],
   "source": [
    "def compile_cuda_kernels(self):\n",
    "    cufiles = ['./ExampleAnalyzer.cu']\n",
    "    self.knl_mask = cu.elementwise.ElementwiseKernel(\n",
    "        arguments=\"bool *mask, bool *HLT_Ele32_WPTight_Gsf, bool *HLT_IsoMu24, int *nElectron, int *nMuon\",\n",
    "        operation=\"mask[i] = (HLT_Ele32_WPTight_Gsf[i] || HLT_IsoMu24[i]) && (nElectron[i]>=2 || nMuon[i]>=2)\" )\n",
    "\n",
    "    # read code from src files\n",
    "    code = self.codeMaskEventsStruct + self.codeEventsStruct\n",
    "    for cufile in cufiles:\n",
    "        f = open(cufile,\"r\") \n",
    "        code += f.read()\n",
    "        f.close()\n",
    "\n",
    "    # complie cuda code\n",
    "    module = cu.compiler.SourceModule(  code )\n",
    "    self.knl_objectSelection_electron = module.get_function('knl_objectSelection_electron')\n",
    "    self.knl_objectSelection_muon     = module.get_function('knl_objectSelection_muon')"
   ]
  }
 ],
 "metadata": {
  "kernelspec": {
   "display_name": "Python 3",
   "language": "python",
   "name": "python3"
  },
  "language_info": {
   "codemirror_mode": {
    "name": "ipython",
    "version": 3
   },
   "file_extension": ".py",
   "mimetype": "text/x-python",
   "name": "python",
   "nbconvert_exporter": "python",
   "pygments_lexer": "ipython3",
   "version": "3.7.6"
  }
 },
 "nbformat": 4,
 "nbformat_minor": 4
}
