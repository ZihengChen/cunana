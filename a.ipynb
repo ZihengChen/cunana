{
 "cells": [
  {
   "cell_type": "code",
   "execution_count": 1,
   "metadata": {},
   "outputs": [
    {
     "name": "stdout",
     "output_type": "stream",
     "text": [
      "Welcome to JupyROOT 6.16/00\n"
     ]
    }
   ],
   "source": [
    "from Analyzer import *"
   ]
  },
  {
   "cell_type": "code",
   "execution_count": 2,
   "metadata": {},
   "outputs": [
    {
     "name": "stdout",
     "output_type": "stream",
     "text": [
      "struct Events {\n",
      "    int *HLT_Ele32_WPTight_Gsf;\n",
      "    int *HLT_IsoMu24;\n",
      "    int *nElectron;\n",
      "    int *nMuon;\n",
      "    float *Electron_pt;\n",
      "    float *Electron_eta;\n",
      "    int *Electron_cutBased;\n",
      "    float *Electron_pfRelIso03_all;\n",
      "    int *Electron_pdgId;\n",
      "    float *Muon_pt;\n",
      "    float *Muon_eta;\n",
      "    int *Muon_isGlobal;\n",
      "    int *Muon_isPFcand;\n",
      "    int *Muon_tightId;\n",
      "    float *Muon_pfRelIso03_all;\n",
      "    int *Muon_pdgId;\n",
      "    int *cumsum_nElectron;\n",
      "    int *cumsum_nMuon;\n",
      "    int nev;\n",
      "};\n",
      "\n"
     ]
    }
   ],
   "source": [
    "ana = Analyzer()\n",
    "print(ana.code_event_struct)"
   ]
  },
  {
   "cell_type": "code",
   "execution_count": 3,
   "metadata": {},
   "outputs": [],
   "source": [
    "ana.set_infile('data/tt.root')"
   ]
  },
  {
   "cell_type": "code",
   "execution_count": 16,
   "metadata": {},
   "outputs": [],
   "source": [
    "ana.clear_infile()"
   ]
  },
  {
   "cell_type": "code",
   "execution_count": 8,
   "metadata": {},
   "outputs": [],
   "source": [
    "f = open( \"Analyzer.cu\",\"r\") \n",
    "code = f.read()\n",
    "f.close()"
   ]
  },
  {
   "cell_type": "code",
   "execution_count": 10,
   "metadata": {},
   "outputs": [
    {
     "name": "stderr",
     "output_type": "stream",
     "text": [
      "/home/zchen/anaconda3/lib/python3.7/site-packages/ipykernel_launcher.py:1: UserWarning: The CUDA compiler succeeded, but said the following:\n",
      "kernel.cu(38): warning: variable \"iPassElectron\" was set but never used\n",
      "\n",
      "\n",
      "  \"\"\"Entry point for launching an IPython kernel.\n"
     ]
    }
   ],
   "source": [
    "testmod = cu.compiler.SourceModule( ana.code_event_struct + code)"
   ]
  },
  {
   "cell_type": "code",
   "execution_count": 12,
   "metadata": {},
   "outputs": [],
   "source": [
    "knl_objectSelection_electrons = testmod.get_function('knl_objectSelection_electrons')"
   ]
  },
  {
   "cell_type": "code",
   "execution_count": 15,
   "metadata": {},
   "outputs": [],
   "source": []
  },
  {
   "cell_type": "code",
   "execution_count": 59,
   "metadata": {},
   "outputs": [],
   "source": [
    "featureConfigs = pd.concat(pd.read_csv(f,index_col=\"featureName\") for f in glob.glob(\"featureConfig/*.csv\"))"
   ]
  },
  {
   "cell_type": "code",
   "execution_count": null,
   "metadata": {},
   "outputs": [],
   "source": []
  },
  {
   "cell_type": "code",
   "execution_count": 33,
   "metadata": {},
   "outputs": [],
   "source": [
    "# devents = GPUStruct([(np.float32,'*Electron_pt', events['Electron_pt']),\n",
    "#                      (np.float32,'*Electron_eta',events['Electron_eta']),\n",
    "#                     ])\n",
    "\n",
    "# dout = GPUStruct([(np.float32,'*res', np.zeros(578981,dtype=np.float32))\n",
    "#                     ])\n",
    "devents.copy_to_gpu()\n",
    "dout.copy_to_gpu()"
   ]
  },
  {
   "cell_type": "code",
   "execution_count": 34,
   "metadata": {},
   "outputs": [],
   "source": []
  },
  {
   "cell_type": "code",
   "execution_count": 35,
   "metadata": {},
   "outputs": [],
   "source": [
    "knl_objectSelection_electrons = testmod.get_function('knl_objectSelection_electrons')"
   ]
  },
  {
   "cell_type": "code",
   "execution_count": 36,
   "metadata": {},
   "outputs": [],
   "source": [
    "knl_objectSelection_electrons(devents.get_ptr(), dout.get_ptr(), grid=(int(578981/1024)+1,1,1), block=(1024,1,1))"
   ]
  },
  {
   "cell_type": "code",
   "execution_count": 37,
   "metadata": {},
   "outputs": [
    {
     "data": {
      "text/plain": [
       "578981"
      ]
     },
     "execution_count": 37,
     "metadata": {},
     "output_type": "execute_result"
    }
   ],
   "source": [
    "len(events['Electron_eta'])"
   ]
  },
  {
   "cell_type": "code",
   "execution_count": 38,
   "metadata": {},
   "outputs": [
    {
     "data": {
      "text/plain": [
       "<pycuda._driver.DeviceAllocation at 0x7f3788b2d210>"
      ]
     },
     "execution_count": 38,
     "metadata": {},
     "output_type": "execute_result"
    }
   ],
   "source": [
    "devents._GPUStruct__ptr"
   ]
  },
  {
   "cell_type": "code",
   "execution_count": 39,
   "metadata": {},
   "outputs": [],
   "source": [
    "devents.copy_from_gpu()"
   ]
  },
  {
   "cell_type": "code",
   "execution_count": 40,
   "metadata": {},
   "outputs": [
    {
     "data": {
      "text/plain": [
       "array([ 2.5062249 ,  1.7968841 , -0.02231631, ..., -1.0562634 ,\n",
       "        0.9958391 , -0.5016483 ], dtype=float32)"
      ]
     },
     "execution_count": 40,
     "metadata": {},
     "output_type": "execute_result"
    }
   ],
   "source": [
    "0.01*events.Electron_pt+events.Electron_eta"
   ]
  },
  {
   "cell_type": "code",
   "execution_count": 41,
   "metadata": {},
   "outputs": [
    {
     "data": {
      "text/plain": [
       "array([ 2.5062249,  1.7968841, -0.0223163, ..., -1.0562634,  0.9958391,\n",
       "       -0.5016483], dtype=float32)"
      ]
     },
     "execution_count": 41,
     "metadata": {},
     "output_type": "execute_result"
    }
   ],
   "source": [
    "dout.res"
   ]
  },
  {
   "cell_type": "code",
   "execution_count": 31,
   "metadata": {},
   "outputs": [],
   "source": [
    "dout.copy_from_gpu()"
   ]
  },
  {
   "cell_type": "code",
   "execution_count": 21,
   "metadata": {},
   "outputs": [
    {
     "ename": "TypeError",
     "evalue": "'Undefined' object is not callable",
     "output_type": "error",
     "traceback": [
      "\u001b[0;31m---------------------------------------------------------------------------\u001b[0m",
      "\u001b[0;31mTypeError\u001b[0m                                 Traceback (most recent call last)",
      "\u001b[0;32m<ipython-input-21-e86622774d26>\u001b[0m in \u001b[0;36m<module>\u001b[0;34m\u001b[0m\n\u001b[1;32m    120\u001b[0m \u001b[0;34m\u001b[0m\u001b[0m\n\u001b[1;32m    121\u001b[0m \u001b[0;32mif\u001b[0m \u001b[0m__name__\u001b[0m \u001b[0;34m==\u001b[0m \u001b[0;34m\"__main__\"\u001b[0m\u001b[0;34m:\u001b[0m\u001b[0;34m\u001b[0m\u001b[0;34m\u001b[0m\u001b[0m\n\u001b[0;32m--> 122\u001b[0;31m     \u001b[0msim\u001b[0m \u001b[0;34m=\u001b[0m \u001b[0mchannelFlow\u001b[0m\u001b[0;34m(\u001b[0m\u001b[0;36m64\u001b[0m\u001b[0;34m,\u001b[0m\u001b[0;36m64\u001b[0m\u001b[0;34m)\u001b[0m\u001b[0;34m;\u001b[0m \u001b[0msim\u001b[0m\u001b[0;34m.\u001b[0m\u001b[0mrun\u001b[0m\u001b[0;34m(\u001b[0m\u001b[0;34m)\u001b[0m\u001b[0;34m\u001b[0m\u001b[0;34m\u001b[0m\u001b[0m\n\u001b[0m",
      "\u001b[0;32m<ipython-input-21-e86622774d26>\u001b[0m in \u001b[0;36mrun\u001b[0;34m(self)\u001b[0m\n\u001b[1;32m     97\u001b[0m \u001b[0;34m\u001b[0m\u001b[0m\n\u001b[1;32m     98\u001b[0m     \u001b[0;32mdef\u001b[0m \u001b[0mrun\u001b[0m\u001b[0;34m(\u001b[0m\u001b[0mself\u001b[0m\u001b[0;34m)\u001b[0m\u001b[0;34m:\u001b[0m\u001b[0;34m\u001b[0m\u001b[0;34m\u001b[0m\u001b[0m\n\u001b[0;32m---> 99\u001b[0;31m         \u001b[0msrc\u001b[0m \u001b[0;34m=\u001b[0m \u001b[0msrc_template\u001b[0m\u001b[0;34m.\u001b[0m\u001b[0mrender\u001b[0m\u001b[0;34m(\u001b[0m\u001b[0;34m**\u001b[0m\u001b[0mself\u001b[0m\u001b[0;34m.\u001b[0m\u001b[0mctx\u001b[0m\u001b[0;34m)\u001b[0m\u001b[0;34m\u001b[0m\u001b[0;34m\u001b[0m\u001b[0m\n\u001b[0m\u001b[1;32m    100\u001b[0m         \u001b[0mcode\u001b[0m \u001b[0;34m=\u001b[0m \u001b[0mSourceModule\u001b[0m\u001b[0;34m(\u001b[0m\u001b[0msrc\u001b[0m\u001b[0;34m)\u001b[0m\u001b[0;34m\u001b[0m\u001b[0;34m\u001b[0m\u001b[0m\n\u001b[1;32m    101\u001b[0m         \u001b[0minitialize\u001b[0m  \u001b[0;34m=\u001b[0m \u001b[0mcode\u001b[0m\u001b[0;34m.\u001b[0m\u001b[0mget_function\u001b[0m\u001b[0;34m(\u001b[0m\u001b[0;34m'initialize'\u001b[0m\u001b[0;34m)\u001b[0m\u001b[0;34m\u001b[0m\u001b[0;34m\u001b[0m\u001b[0m\n",
      "\u001b[0;32m~/.local/lib/python3.7/site-packages/mako/template.py\u001b[0m in \u001b[0;36mrender\u001b[0;34m(self, *args, **data)\u001b[0m\n\u001b[1;32m    474\u001b[0m \u001b[0;34m\u001b[0m\u001b[0m\n\u001b[1;32m    475\u001b[0m         \"\"\"\n\u001b[0;32m--> 476\u001b[0;31m         \u001b[0;32mreturn\u001b[0m \u001b[0mruntime\u001b[0m\u001b[0;34m.\u001b[0m\u001b[0m_render\u001b[0m\u001b[0;34m(\u001b[0m\u001b[0mself\u001b[0m\u001b[0;34m,\u001b[0m \u001b[0mself\u001b[0m\u001b[0;34m.\u001b[0m\u001b[0mcallable_\u001b[0m\u001b[0;34m,\u001b[0m \u001b[0margs\u001b[0m\u001b[0;34m,\u001b[0m \u001b[0mdata\u001b[0m\u001b[0;34m)\u001b[0m\u001b[0;34m\u001b[0m\u001b[0;34m\u001b[0m\u001b[0m\n\u001b[0m\u001b[1;32m    477\u001b[0m \u001b[0;34m\u001b[0m\u001b[0m\n\u001b[1;32m    478\u001b[0m     \u001b[0;32mdef\u001b[0m \u001b[0mrender_unicode\u001b[0m\u001b[0;34m(\u001b[0m\u001b[0mself\u001b[0m\u001b[0;34m,\u001b[0m \u001b[0;34m*\u001b[0m\u001b[0margs\u001b[0m\u001b[0;34m,\u001b[0m \u001b[0;34m**\u001b[0m\u001b[0mdata\u001b[0m\u001b[0;34m)\u001b[0m\u001b[0;34m:\u001b[0m\u001b[0;34m\u001b[0m\u001b[0;34m\u001b[0m\u001b[0m\n",
      "\u001b[0;32m~/.local/lib/python3.7/site-packages/mako/runtime.py\u001b[0m in \u001b[0;36m_render\u001b[0;34m(template, callable_, args, data, as_unicode)\u001b[0m\n\u001b[1;32m    881\u001b[0m         \u001b[0mcontext\u001b[0m\u001b[0;34m,\u001b[0m\u001b[0;34m\u001b[0m\u001b[0;34m\u001b[0m\u001b[0m\n\u001b[1;32m    882\u001b[0m         \u001b[0;34m*\u001b[0m\u001b[0margs\u001b[0m\u001b[0;34m,\u001b[0m\u001b[0;34m\u001b[0m\u001b[0;34m\u001b[0m\u001b[0m\n\u001b[0;32m--> 883\u001b[0;31m         \u001b[0;34m**\u001b[0m\u001b[0m_kwargs_for_callable\u001b[0m\u001b[0;34m(\u001b[0m\u001b[0mcallable_\u001b[0m\u001b[0;34m,\u001b[0m \u001b[0mdata\u001b[0m\u001b[0;34m)\u001b[0m\u001b[0;34m\u001b[0m\u001b[0;34m\u001b[0m\u001b[0m\n\u001b[0m\u001b[1;32m    884\u001b[0m     )\n\u001b[1;32m    885\u001b[0m     \u001b[0;32mreturn\u001b[0m \u001b[0mcontext\u001b[0m\u001b[0;34m.\u001b[0m\u001b[0m_pop_buffer\u001b[0m\u001b[0;34m(\u001b[0m\u001b[0;34m)\u001b[0m\u001b[0;34m.\u001b[0m\u001b[0mgetvalue\u001b[0m\u001b[0;34m(\u001b[0m\u001b[0;34m)\u001b[0m\u001b[0;34m\u001b[0m\u001b[0;34m\u001b[0m\u001b[0m\n",
      "\u001b[0;32m~/.local/lib/python3.7/site-packages/mako/runtime.py\u001b[0m in \u001b[0;36m_render_context\u001b[0;34m(tmpl, callable_, context, *args, **kwargs)\u001b[0m\n\u001b[1;32m    918\u001b[0m         \u001b[0;31m# if main render method, call from the base of the inheritance stack\u001b[0m\u001b[0;34m\u001b[0m\u001b[0;34m\u001b[0m\u001b[0;34m\u001b[0m\u001b[0m\n\u001b[1;32m    919\u001b[0m         \u001b[0;34m(\u001b[0m\u001b[0minherit\u001b[0m\u001b[0;34m,\u001b[0m \u001b[0mlclcontext\u001b[0m\u001b[0;34m)\u001b[0m \u001b[0;34m=\u001b[0m \u001b[0m_populate_self_namespace\u001b[0m\u001b[0;34m(\u001b[0m\u001b[0mcontext\u001b[0m\u001b[0;34m,\u001b[0m \u001b[0mtmpl\u001b[0m\u001b[0;34m)\u001b[0m\u001b[0;34m\u001b[0m\u001b[0;34m\u001b[0m\u001b[0m\n\u001b[0;32m--> 920\u001b[0;31m         \u001b[0m_exec_template\u001b[0m\u001b[0;34m(\u001b[0m\u001b[0minherit\u001b[0m\u001b[0;34m,\u001b[0m \u001b[0mlclcontext\u001b[0m\u001b[0;34m,\u001b[0m \u001b[0margs\u001b[0m\u001b[0;34m=\u001b[0m\u001b[0margs\u001b[0m\u001b[0;34m,\u001b[0m \u001b[0mkwargs\u001b[0m\u001b[0;34m=\u001b[0m\u001b[0mkwargs\u001b[0m\u001b[0;34m)\u001b[0m\u001b[0;34m\u001b[0m\u001b[0;34m\u001b[0m\u001b[0m\n\u001b[0m\u001b[1;32m    921\u001b[0m     \u001b[0;32melse\u001b[0m\u001b[0;34m:\u001b[0m\u001b[0;34m\u001b[0m\u001b[0;34m\u001b[0m\u001b[0m\n\u001b[1;32m    922\u001b[0m         \u001b[0;31m# otherwise, call the actual rendering method specified\u001b[0m\u001b[0;34m\u001b[0m\u001b[0;34m\u001b[0m\u001b[0;34m\u001b[0m\u001b[0m\n",
      "\u001b[0;32m~/.local/lib/python3.7/site-packages/mako/runtime.py\u001b[0m in \u001b[0;36m_exec_template\u001b[0;34m(callable_, context, args, kwargs)\u001b[0m\n\u001b[1;32m    945\u001b[0m             \u001b[0m_render_error\u001b[0m\u001b[0;34m(\u001b[0m\u001b[0mtemplate\u001b[0m\u001b[0;34m,\u001b[0m \u001b[0mcontext\u001b[0m\u001b[0;34m,\u001b[0m \u001b[0me\u001b[0m\u001b[0;34m)\u001b[0m\u001b[0;34m\u001b[0m\u001b[0;34m\u001b[0m\u001b[0m\n\u001b[1;32m    946\u001b[0m     \u001b[0;32melse\u001b[0m\u001b[0;34m:\u001b[0m\u001b[0;34m\u001b[0m\u001b[0;34m\u001b[0m\u001b[0m\n\u001b[0;32m--> 947\u001b[0;31m         \u001b[0mcallable_\u001b[0m\u001b[0;34m(\u001b[0m\u001b[0mcontext\u001b[0m\u001b[0;34m,\u001b[0m \u001b[0;34m*\u001b[0m\u001b[0margs\u001b[0m\u001b[0;34m,\u001b[0m \u001b[0;34m**\u001b[0m\u001b[0mkwargs\u001b[0m\u001b[0;34m)\u001b[0m\u001b[0;34m\u001b[0m\u001b[0;34m\u001b[0m\u001b[0m\n\u001b[0m\u001b[1;32m    948\u001b[0m \u001b[0;34m\u001b[0m\u001b[0m\n\u001b[1;32m    949\u001b[0m \u001b[0;34m\u001b[0m\u001b[0m\n",
      "\u001b[0;32mmemory:0x7f3788af11d0\u001b[0m in \u001b[0;36mrender_body\u001b[0;34m(context, **pageargs)\u001b[0m\n",
      "\u001b[0;31mTypeError\u001b[0m: 'Undefined' object is not callable"
     ]
    }
   ],
   "source": [
    "#!/usr/bin/env python\n",
    "#-*- coding:utf-8 -*-\n",
    "\n",
    "import numpy as np\n",
    "import pycuda.driver as cuda\n",
    "import pycuda.tools as tools\n",
    "import pycuda.autoinit\n",
    "\n",
    "from gpustruct import GPUStruct\n",
    "from mako.template import Template\n",
    "from pycuda.compiler import SourceModule\n",
    "\n",
    "src_template = Template(\n",
    "\"\"\"\n",
    "    struct Dist {\n",
    "        %for s in xrange(ns):\n",
    "        float *dist${s};\n",
    "        %endfor\n",
    "    };\n",
    "\n",
    "    // return linear index based on x,y coordinate\n",
    "    __device__ int get_index(int xcoord, int ycoord)\n",
    "    {\n",
    "        return ycoord + xcoord * ${ny};\n",
    "    };\n",
    "\n",
    "    __global__ void initialize(float *rho, float *ux, float *uy, Dist *ftmp)\n",
    "    {\n",
    "        int idx;\n",
    "        float dens, velx, vely, vv, ev;\n",
    "\n",
    "        for (int y = threadIdx.x + blockIdx.x * blockDim.x; \n",
    "                 y < ${ny}; \n",
    "                 y += blockDim.x * gridDim.x)   \n",
    "        {   \n",
    "            for (int x = threadIdx.y + blockIdx.y * blockDim.y; \n",
    "                 x < ${nx}; \n",
    "                 x += blockDim.y * gridDim.y) \n",
    "            {\n",
    "                if ((x > 0) && (x < ${nx-1}) && (y > 0) && (y < ${ny-1}))\n",
    "                {\n",
    "                    idx = get_index(x,y);\n",
    "                    dens = rho[idx]; velx = ux[idx]; vely = uy[idx];\n",
    "                    vv = velx*velx + vely*vely;\n",
    "\n",
    "                    %for s in xrange(ns):\n",
    "                    // s = ${s}; \\vec{e}[${s}] = [${ex[s]},${ey[s]}]\n",
    "                    float *ftmp${s}_ptr1 = ftmp->dist${s};\n",
    "                    ev = ${float(ex[s])}f*velx + ${float(ey[s])}f*vely;\n",
    "                    ftmp${s}_ptr1[idx] = ${w[s]}f*dens*(1.0f+3.0f*ev+4.5f*ev*ev-1.5f*vv);                   \n",
    "                    %endfor\n",
    "                }\n",
    "            }\n",
    "        }\n",
    "    }\n",
    "\"\"\"\n",
    ")\n",
    "\n",
    "class channelFlow:\n",
    "    # initialize channelFlow\n",
    "    def __init__(self, nx, ny):\n",
    "        self.nx, self.ny = nx, ny\n",
    "\n",
    "        max_threads_per_block = tools.DeviceData().max_threads\n",
    "        self.blocksize = (ny if ny<32 else 32, nx if nx<32 else 32, 1)  # threads per block\n",
    "        self.gridsize = (ny/self.blocksize[0], nx/self.blocksize[1], 1) # blocks per grid\n",
    "\n",
    "        self.ns = 9\n",
    "        self.w = np.array([4./9, 1./9, 1./9, 1./9, 1./9, 1./36, 1./36, 1./36, 1./36])\n",
    "        self.ex = np.array([0, 1, -1, 0, 0, 1, -1, -1, 1])\n",
    "        self.ey = np.array([0, 0, 0, 1, -1, 1, 1, -1, -1])\n",
    "\n",
    "        self.ctx = { 'nx': self.nx, 'ny': self.ny, 'ns': self.ns,\n",
    "                     'w': self.w, 'ex': self.ex, 'ey': self.ey\n",
    "                     }\n",
    "\n",
    "        dtype = np.float32\n",
    "        self.ftmp = np.zeros([self.nx,self.ny,self.ns]).astype(dtype)\n",
    "        self.rho  = np.zeros([self.nx,self.ny]).astype(dtype)\n",
    "        self.ux   = np.zeros([self.nx,self.ny]).astype(dtype)\n",
    "        self.uy   = np.zeros([self.nx,self.ny]).astype(dtype)\n",
    "\n",
    "        self.ftmp_gpu = GPUStruct([\n",
    "            (np.float32,'*dist0', self.ftmp[:,:,0]),\n",
    "            (np.float32,'*dist1', self.ftmp[:,:,1]),\n",
    "            (np.float32,'*dist2', self.ftmp[:,:,2]),\n",
    "            (np.float32,'*dist3', self.ftmp[:,:,3]),\n",
    "            (np.float32,'*dist4', self.ftmp[:,:,4]),\n",
    "            (np.float32,'*dist5', self.ftmp[:,:,5]),\n",
    "            (np.float32,'*dist6', self.ftmp[:,:,6]),\n",
    "            (np.float32,'*dist7', self.ftmp[:,:,7]),\n",
    "            (np.float32,'*dist8', self.ftmp[:,:,8])\n",
    "            ])\n",
    "        self.rho_gpu  = cuda.mem_alloc(self.rho.nbytes)\n",
    "        self.ux_gpu   = cuda.mem_alloc(self.ux.nbytes)\n",
    "        self.uy_gpu   = cuda.mem_alloc(self.uy.nbytes)\n",
    "\n",
    "    def run(self):\n",
    "        src = src_template.render(**self.ctx)\n",
    "        code = SourceModule(src)\n",
    "        initialize  = code.get_function('initialize')\n",
    "\n",
    "        self.rho[:,:] = 1.\n",
    "        self.ux[:,:] = 0.\n",
    "        self.uy[:,:] = 0.\n",
    "\n",
    "        self.ftmp_gpu.copy_to_gpu()\n",
    "        cuda.memcpy_htod(self.rho_gpu, self.rho)\n",
    "        cuda.memcpy_htod(self.ux_gpu, self.ux)\n",
    "        cuda.memcpy_htod(self.uy_gpu, self.uy)\n",
    "\n",
    "        initialize(\n",
    "            self.rho_gpu, self.ux_gpu, self.uy_gpu,\n",
    "            self.ftmp_gpu.get_ptr(), \n",
    "            block=self.blocksize, grid=self.gridsize\n",
    "            )\n",
    "\n",
    "        self.dens = np.zeros_like(self.rho)\n",
    "        cuda.memcpy_dtoh(self.dens, self.rho_gpu)\n",
    "\n",
    "if __name__ == \"__main__\":\n",
    "    sim = channelFlow(64,64); sim.run()"
   ]
  },
  {
   "cell_type": "code",
   "execution_count": null,
   "metadata": {},
   "outputs": [],
   "source": []
  }
 ],
 "metadata": {
  "kernelspec": {
   "display_name": "Python 3",
   "language": "python",
   "name": "python3"
  },
  "language_info": {
   "codemirror_mode": {
    "name": "ipython",
    "version": 3
   },
   "file_extension": ".py",
   "mimetype": "text/x-python",
   "name": "python",
   "nbconvert_exporter": "python",
   "pygments_lexer": "ipython3",
   "version": "3.7.6"
  }
 },
 "nbformat": 4,
 "nbformat_minor": 4
}
